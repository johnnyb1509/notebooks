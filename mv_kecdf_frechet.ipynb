{
 "cells": [
  {
   "cell_type": "markdown",
   "metadata": {
    "slideshow": {
     "slide_type": "slide"
    }
   },
   "source": [
    "# Data science friday tales\n",
    "\n",
    "### Lia Silva-Lopez\n",
    "\n",
    "---\n",
    "\n",
    "*Tuesday, 19/03/2019*"
   ]
  },
  {
   "cell_type": "markdown",
   "metadata": {
    "slideshow": {
     "slide_type": "slide"
    }
   },
   "source": [
    "## This story starts with a reading accident\n",
    "\n",
    "#### One moment you are reading a book...\n",
    "\n",
    "<img src=\"img/reading_accident.png\">\n",
    "\n",
    "#### ...And then Fréchet hits you."
   ]
  },
  {
   "cell_type": "markdown",
   "metadata": {
    "slideshow": {
     "slide_type": "slide"
    }
   },
   "source": [
    "## Bounds for distributions* in terms of its marginals?\n",
    "\n",
    "* That makes perfect sense!\n",
    "\n",
    "* Why aren't Fréchet bounds for distributions more mainstream? \n",
    "\n",
    "* Is it because it's hard to pronounce?\n",
    "\n",
    "*_with distributions we mean CDFs, not densities_"
   ]
  },
  {
   "cell_type": "markdown",
   "metadata": {
    "slideshow": {
     "slide_type": "slide"
    }
   },
   "source": [
    "## Allright, let's point the fingers at ourselves:\n",
    "\n",
    "---\n",
    "\n",
    "## What would _I_ do with Fréchet bounds?"
   ]
  },
  {
   "cell_type": "markdown",
   "metadata": {
    "slideshow": {
     "slide_type": "subslide"
    }
   },
   "source": [
    "<img src=\"https://media.giphy.com/media/4uraUi810KSMo/giphy.gif\">"
   ]
  },
  {
   "cell_type": "markdown",
   "metadata": {
    "slideshow": {
     "slide_type": "slide"
    }
   },
   "source": [
    "## Idea 1: Use them to estimate Kernel Bandwidths\n",
    "\n",
    "The *whole point* of bounds is to try not to break them.\n",
    "\n",
    "##### Are we breaking Fréchet bounds when CDF estimations with Kernels?\n",
    "###### And if we break them, how *badly* are we breaking those bounds? \n",
    "###### And what is the consequence of building estimates that break Fréchet bounds?"
   ]
  },
  {
   "cell_type": "markdown",
   "metadata": {
    "slideshow": {
     "slide_type": "slide"
    }
   },
   "source": [
    "## Fréchet bounds + BW estimation in KDEs?\n",
    "\n",
    "* The bounds can help prune the search space:\n",
    "    * Removing parameters that build estimates outside the bounds.\n",
    "    * Or (if the above was too violent), prune using thresholds. \n",
    "\n",
    "### Even bolder:\n",
    "* Use the bounds stand-alone to construct likelihood functions and use them directly to fit the bandwidths."
   ]
  },
  {
   "cell_type": "code",
   "execution_count": null,
   "metadata": {
    "collapsed": true
   },
   "outputs": [],
   "source": []
  },
  {
   "cell_type": "code",
   "execution_count": null,
   "metadata": {
    "collapsed": true
   },
   "outputs": [],
   "source": []
  },
  {
   "cell_type": "code",
   "execution_count": null,
   "metadata": {
    "collapsed": true
   },
   "outputs": [],
   "source": []
  },
  {
   "cell_type": "markdown",
   "metadata": {
    "slideshow": {
     "slide_type": "slide"
    }
   },
   "source": [
    "### How does bandwidth selection look like?\n",
    "Code for bandwith selection methods in StatsModels can be found [here](https://www.statsmodels.org/dev/_modules/statsmodels/nonparametric/_kernel_base.html). \n",
    "\n",
    "As the library is today (march 2019), there is no obviously direct way to feed ranges of hyperparameters in order to constrain the bandwidth selection process. So, I made some simple modifications to be able to affect how the base methods to calculate a bandwidth are used. Those modifications are below."
   ]
  },
  {
   "cell_type": "markdown",
   "metadata": {},
   "source": [
    "<img src=\"https://data.whicdn.com/images/40743151/original.gif\">"
   ]
  },
  {
   "cell_type": "code",
   "execution_count": 1,
   "metadata": {
    "collapsed": true
   },
   "outputs": [],
   "source": [
    "from __future__ import division\n",
    "\n",
    "import matplotlib.pyplot as plt\n",
    "import numpy as np\n",
    "import scipy.stats as spst\n",
    "import statsmodels.api as sm\n",
    "from scipy import optimize\n",
    "\n",
    "from statsmodels.nonparametric import kernels\n",
    "\n",
    "\n",
    "kernel_func = dict(wangryzin=kernels.wang_ryzin,\n",
    "                   aitchisonaitken=kernels.aitchison_aitken,\n",
    "                   gaussian=kernels.gaussian,\n",
    "                   aitchison_aitken_reg = kernels.aitchison_aitken_reg,\n",
    "                   wangryzin_reg = kernels.wang_ryzin_reg,\n",
    "                   gauss_convolution=kernels.gaussian_convolution,\n",
    "                   wangryzin_convolution=kernels.wang_ryzin_convolution,\n",
    "                   aitchisonaitken_convolution=kernels.aitchison_aitken_convolution,\n",
    "                   gaussian_cdf=kernels.gaussian_cdf,\n",
    "                   aitchisonaitken_cdf=kernels.aitchison_aitken_cdf,\n",
    "                   wangryzin_cdf=kernels.wang_ryzin_cdf,\n",
    "                   d_gaussian=kernels.d_gaussian)\n",
    "\n",
    "def gpke(bwp, dataxx, data_predict, var_type, ckertype='gaussian',\n",
    "         okertype='wangryzin', ukertype='aitchisonaitken', tosum=True):\n",
    "    r\"\"\"Returns the non-normalized Generalized Product Kernel Estimator\"\"\"\n",
    "    kertypes = dict(c=ckertype, o=okertype, u=ukertype)\n",
    "    Kval = np.empty(dataxx.shape)\n",
    "    for ii, vtype in enumerate(var_type):\n",
    "        func = kernel_func[kertypes[vtype]]\n",
    "        Kval[:, ii] = func(bwp[ii], dataxx[:, ii], data_predict[ii])\n",
    "\n",
    "    iscontinuous = np.array([c == 'c' for c in var_type])\n",
    "    dens = Kval.prod(axis=1) / np.prod(bwp[iscontinuous])\n",
    "    #dens = np.nanprod(Kval,axis=1) / np.prod(bwp[iscontinuous])\n",
    "    if tosum:\n",
    "        return dens.sum(axis=0)\n",
    "    else:\n",
    "        return dens\n",
    "\n",
    "\n",
    "class LeaveOneOut(object):\n",
    "    def __init__(self, X):\n",
    "        self.X = np.asarray(X)\n",
    "\n",
    "    def __iter__(self):\n",
    "        X = self.X\n",
    "        nobs, k_vars = np.shape(X)\n",
    "\n",
    "        for i in range(nobs):\n",
    "            index = np.ones(nobs, dtype=np.bool)\n",
    "            index[i] = False\n",
    "            yield X[index, :]\n",
    "\n",
    "\n",
    "\n",
    "def loo_likelihood(bww, datax, var_type, func=lambda x: x, ):\n",
    "    #print(bww)\n",
    "    LOO = LeaveOneOut(datax)\n",
    "    L = 0\n",
    "    for i, X_not_i in enumerate(LOO):\n",
    "        f_i = gpke(bww, dataxx=-X_not_i, data_predict=-datax[i, :],\n",
    "                   var_type=var_type)\n",
    "        L += func(f_i)\n",
    "    return -L\n",
    "\n",
    "\n",
    "def get_bw(datapfft ,var_type ,reference):\n",
    "    # Using leave-one-out likelihood\n",
    "    # the initial value for the optimization is the normal_reference\n",
    "    # h0 = normal_reference()\n",
    "\n",
    "    data = adjust_shape(datapfft, len(var_type))\n",
    "\n",
    "    h0 =reference\n",
    "    fmin =lambda bb, funcx: loo_likelihood(bb, data, var_type, func=funcx)\n",
    "    bw = optimize.fmin(fmin, x0=h0, args=(np.log, ),\n",
    "                       maxiter=1e3, maxfun=1e3, disp=0, xtol=1e-3)\n",
    "    # bw = self._set_bw_bounds(bw)  # bound bw if necessary\n",
    "    return bw\n",
    "\n",
    "def adjust_shape(dat, k_vars):\n",
    "    \"\"\" Returns an array of shape (nobs, k_vars) for use with `gpke`.\"\"\"\n",
    "    dat = np.asarray(dat)\n",
    "    if dat.ndim > 2:\n",
    "        dat = np.squeeze(dat)\n",
    "    if dat.ndim == 1 and k_vars > 1:  # one obs many vars\n",
    "        nobs = 1\n",
    "    elif dat.ndim == 1 and k_vars == 1:  # one obs one var\n",
    "        nobs = len(dat)\n",
    "    else:\n",
    "        if np.shape(dat)[0] == k_vars and np.shape(dat)[1] != k_vars:\n",
    "            dat = dat.T\n",
    "\n",
    "        nobs = np.shape(dat)[0]  # ndim >1 so many obs many vars\n",
    "\n",
    "    dat = np.reshape(dat, (nobs, k_vars))\n",
    "    return dat"
   ]
  },
  {
   "cell_type": "code",
   "execution_count": 2,
   "metadata": {},
   "outputs": [
    {
     "name": "stdout",
     "output_type": "stream",
     "text": [
      "Created `%t` as an alias for `%timeit`.\n",
      "Created `%%t` as an alias for `%%timeit`.\n"
     ]
    }
   ],
   "source": [
    "%alias_magic t timeit"
   ]
  },
  {
   "cell_type": "markdown",
   "metadata": {},
   "source": [
    "## Generate & visualize some data\n",
    "Same parameters as the Fréchet notebook, all coming from a beta."
   ]
  },
  {
   "cell_type": "code",
   "execution_count": 3,
   "metadata": {},
   "outputs": [
    {
     "data": {
      "image/png": "[encoded data removed]",
      "text/plain": [
       "<Figure size 432x288 with 1 Axes>"
      ]
     },
     "metadata": {},
     "output_type": "display_data"
    }
   ],
   "source": [
    "n=500\n",
    "distr=spst.beta\n",
    "smpl=np.linspace(0,1,num=n)\n",
    "params={'horns':(0.5,0.5),\n",
    "      'horns1':(0.5,0.55),\n",
    "      'shower':(5.,2.),\n",
    "      'grower':(2.,5.)}\n",
    "v_type=f'{\"c\"*len(params)}'\n",
    "#plot the cdfs\n",
    "fig, ax = plt.subplots()\n",
    "list(map(lambda x: ax.plot(distr.cdf(smpl,*x),smpl) , params.values()))\n",
    "ax.legend(list(params.keys()))\n",
    "fig.suptitle(f'CDFs for different marginals (Beta distributed)')\n",
    "plt.grid()\n",
    "plt.savefig('../cdfs_beta_different.png', dpi=100)\n",
    "plt.show()"
   ]
  },
  {
   "cell_type": "code",
   "execution_count": 4,
   "metadata": {
    "collapsed": true,
    "scrolled": true
   },
   "outputs": [],
   "source": [
    "#Generate some independent data for each parameter set\n",
    "mvdata={k:distr.rvs(*params[k],size=n) for k in params}"
   ]
  },
  {
   "cell_type": "code",
   "execution_count": 5,
   "metadata": {
    "collapsed": true
   },
   "outputs": [],
   "source": [
    "rd=np.array(list(mvdata.values()))"
   ]
  },
  {
   "cell_type": "markdown",
   "metadata": {},
   "source": [
    "### Testing vanilla bandwidth estimation"
   ]
  },
  {
   "cell_type": "code",
   "execution_count": 6,
   "metadata": {},
   "outputs": [
    {
     "name": "stdout",
     "output_type": "stream",
     "text": [
      "2 loops, best of 3: 106 µs per loop\n",
      "bw with reference [0.17402781 0.16777569 0.07661515 0.07925317] (only available for gaussian kernels)\n"
     ]
    }
   ],
   "source": [
    "%timeit -n2 sm.nonparametric.KDEMultivariate(data=rd,var_type=v_type, bw='normal_reference')\n",
    "dens_u_rot = sm.nonparametric.KDEMultivariate(data=rd,var_type=v_type, bw='normal_reference')\n",
    "print('bw with reference',dens_u_rot.bw, '(only available for gaussian kernels)')"
   ]
  },
  {
   "cell_type": "code",
   "execution_count": 7,
   "metadata": {},
   "outputs": [
    {
     "name": "stderr",
     "output_type": "stream",
     "text": [
      "/home/lia/anaconda3/lib/python3.6/site-packages/statsmodels/nonparametric/kernel_density.py:161: RuntimeWarning: invalid value encountered in log\n",
      "  L += func(f_i)\n"
     ]
    },
    {
     "name": "stdout",
     "output_type": "stream",
     "text": [
      "1 loop, best of 3: 24.7 s per loop\n",
      "bw with maximum likelihood [0.03361851 0.07064256 0.10817853 0.11647636]\n"
     ]
    }
   ],
   "source": [
    "%timeit -n1 sm.nonparametric.KDEMultivariate(data=rd,var_type=v_type, bw='cv_ml')\n",
    "dens_u_ml = sm.nonparametric.KDEMultivariate(data=rd,var_type=v_type, bw='cv_ml')\n",
    "print('bw with maximum likelihood',dens_u_ml.bw)"
   ]
  },
  {
   "cell_type": "code",
   "execution_count": null,
   "metadata": {
    "collapsed": true
   },
   "outputs": [],
   "source": [
    "# BW with least squares takes >8x more than with ml\n",
    "#%timeit -n2 sm.nonparametric.KDEMultivariate(data=rd,var_type=v_type, bw='cv_ls')\n",
    "#dens_u_ls = sm.nonparametric.KDEMultivariate(data=rd,var_type=v_type, bw='cv_ls')\n",
    "#print('bw with least squares',dens_u_ls.bw)"
   ]
  },
  {
   "cell_type": "markdown",
   "metadata": {},
   "source": [
    "### Getting BW from statsmodels puppet\n",
    "We build a puppet out of statsmodels code. First we verify that we can get reasonable estimates of bandwidth. \n",
    "\n",
    "Then we add an option to allow Fréchet bounds to prune hyperparameter search."
   ]
  },
  {
   "cell_type": "code",
   "execution_count": 8,
   "metadata": {},
   "outputs": [
    {
     "name": "stderr",
     "output_type": "stream",
     "text": [
      "/home/lia/anaconda3/lib/python3.6/site-packages/ipykernel_launcher.py:65: RuntimeWarning: invalid value encountered in log\n"
     ]
    }
   ],
   "source": [
    "#first try: attempt to piggyback on the methods in statsmodels to generate the bandwidth from a choice.\n",
    "#see if we get close results from dens_u_ml\n",
    "tst=get_bw(rd,v_type,np.round(dens_u_rot.bw,3))#dens_u_rot.bw)"
   ]
  },
  {
   "cell_type": "code",
   "execution_count": null,
   "metadata": {
    "collapsed": true
   },
   "outputs": [],
   "source": [
    "print('our estimate:',tst,'\\nrule-of-thumb estimate:',dens_u_rot.bw,'\\n ml estimate:',dens_u_ml.bw)"
   ]
  },
  {
   "cell_type": "markdown",
   "metadata": {},
   "source": [
    "## Now let's check how the KP estimations fit on Fréchet's bounds"
   ]
  },
  {
   "cell_type": "code",
   "execution_count": null,
   "metadata": {
    "collapsed": true
   },
   "outputs": [],
   "source": [
    "def get_frechets(dvars):\n",
    "    d=len(dvars)\n",
    "    n=len(dvars[0])\n",
    "    dimx=np.array(range(d))\n",
    "    un=np.ones(d,dtype=int)\n",
    "    bottom_frechet = np.array([max( np.sum( dvars[dimx,un*i] ) +1-d, 0 ) \n",
    "                               for i in range(n) ])\n",
    "    top_frechet = np.array([min([y[i] for y in dvars]) for i in range(n)])\n",
    "    return {'top': top_frechet, 'bottom': bottom_frechet}"
   ]
  },
  {
   "cell_type": "code",
   "execution_count": 9,
   "metadata": {
    "collapsed": true
   },
   "outputs": [],
   "source": [
    "def check_frechet_fails(guinea_cdf,frechets):\n",
    "    fails={'top':[], 'bottom':[]}\n",
    "    for n in range(len(guinea_cdf)):\n",
    "        #n_hyper_point=np.array([x[n] for x in rd])\n",
    "        if guinea_cdf[n]>frechets['top'][n]:\n",
    "            fails['top'].append(True)\n",
    "        else:\n",
    "            fails['top'].append(False)\n",
    "\n",
    "        if guinea_cdf[n]<frechets['bottom'][n]:\n",
    "            fails['bottom'].append(True)\n",
    "        else:\n",
    "            fails['bottom'].append(False)\n",
    "    return {'top':np.array(fails['top']),\n",
    "            'bottom':np.array(fails['bottom'])}"
   ]
  },
  {
   "cell_type": "code",
   "execution_count": null,
   "metadata": {
    "collapsed": true
   },
   "outputs": [],
   "source": [
    "%timeit -n10 get_frechets(rd)\n",
    "frechets=get_frechets(rd)"
   ]
  },
  {
   "cell_type": "markdown",
   "metadata": {},
   "source": [
    "## Fréchet Bound Violations by all estimators"
   ]
  },
  {
   "cell_type": "code",
   "execution_count": null,
   "metadata": {
    "collapsed": true
   },
   "outputs": [],
   "source": [
    "guinea_pig=sm.nonparametric.KDEMultivariate(data=rd,var_type=v_type, bw=tst)\n",
    "guinea_cdf=guinea_pig.cdf()\n",
    "print(guinea_cdf.shape)"
   ]
  },
  {
   "cell_type": "code",
   "execution_count": null,
   "metadata": {
    "collapsed": true
   },
   "outputs": [],
   "source": [
    "guinea_fails=check_frechet_fails(guinea_cdf,frechets)\n",
    "print('Frechet Violations:','top:', np.sum(guinea_fails['top']), ' bottom:',np.sum(guinea_fails['bottom']))"
   ]
  },
  {
   "cell_type": "code",
   "execution_count": null,
   "metadata": {
    "collapsed": true
   },
   "outputs": [],
   "source": [
    "vanilla_pig=sm.nonparametric.KDEMultivariate(data=rd,var_type=v_type, bw=dens_u_rot.bw)\n",
    "vanilla_cdf=vanilla_pig.cdf()\n",
    "print(vanilla_cdf.shape)"
   ]
  },
  {
   "cell_type": "code",
   "execution_count": null,
   "metadata": {
    "collapsed": true
   },
   "outputs": [],
   "source": [
    "vanilla_fails=check_frechet_fails(vanilla_cdf,frechets)\n",
    "print('Frechet Violations:','top:', np.sum(vanilla_fails['top']), ' bottom:',np.sum(vanilla_fails['bottom']))"
   ]
  },
  {
   "cell_type": "markdown",
   "metadata": {},
   "source": [
    "#### Misc"
   ]
  },
  {
   "cell_type": "markdown",
   "metadata": {},
   "source": [
    "Testing LeaveOneOut class"
   ]
  },
  {
   "cell_type": "code",
   "execution_count": null,
   "metadata": {
    "collapsed": true
   },
   "outputs": [],
   "source": [
    "X = np.random.normal(0, 1, [10,2])\n",
    "loo = LeaveOneOut(X)\n",
    "for x in loo:\n",
    "    print ('hihi',x)"
   ]
  }
 ],
 "metadata": {
  "celltoolbar": "Slideshow",
  "kernelspec": {
   "display_name": "Python 3",
   "language": "python",
   "name": "python3"
  },
  "language_info": {
   "codemirror_mode": {
    "name": "ipython",
    "version": 3
   },
   "file_extension": ".py",
   "mimetype": "text/x-python",
   "name": "python",
   "nbconvert_exporter": "python",
   "pygments_lexer": "ipython3",
   "version": "3.6.8"
  }
 },
 "nbformat": 4,
 "nbformat_minor": 2
}
